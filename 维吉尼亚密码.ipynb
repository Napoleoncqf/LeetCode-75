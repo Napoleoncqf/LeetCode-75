{
 "cells": [
  {
   "cell_type": "markdown",
   "metadata": {},
   "source": [
    "已连接到 Python 3.12.4"
   ]
  },
  {
   "cell_type": "code",
   "execution_count": 1,
   "id": "29cb2b77",
   "metadata": {},
   "outputs": [
    {
     "name": "stdout",
     "output_type": "stream",
     "text": [
      "密文是: Q OWEZ WEDW O LZTIX\n"
     ]
    }
   ],
   "source": [
    "def vigenere_encrypt(plaintext, key):\n",
    "    \"\"\"\n",
    "    使用维吉尼亚密码加密明文。\n",
    "\n",
    "    Args:\n",
    "        plaintext (str): 需要加密的明文。\n",
    "        key (str): 加密密钥。\n",
    "\n",
    "    Returns:\n",
    "        str: 加密后的密文。\n",
    "    \"\"\"\n",
    "    encrypted_text = []\n",
    "    key_index = 0\n",
    "    \n",
    "    # 将密钥和明文都转换为大写\n",
    "    plaintext = plaintext.upper()\n",
    "    key = key.upper()\n",
    "\n",
    "    for char in plaintext:\n",
    "        # 只处理字母\n",
    "        if char.isalpha():\n",
    "            # 计算偏移量 (A=0, B=1, ...)\n",
    "            key_shift = ord(key[key_index]) - ord('A')\n",
    "            \n",
    "            # 加密当前字母\n",
    "            encrypted_char_code = (ord(char) - ord('A') + key_shift) % 26\n",
    "            encrypted_char = chr(encrypted_char_code + ord('A'))\n",
    "            \n",
    "            encrypted_text.append(encrypted_char)\n",
    "            \n",
    "            # 移动到密钥的下一个字母\n",
    "            key_index = (key_index + 1) % len(key)\n",
    "        else:\n",
    "            # 如果不是字母，则保持原样\n",
    "            encrypted_text.append(char)\n",
    "            \n",
    "    return \"\".join(encrypted_text)\n",
    "\n",
    "# --- 主程序 ---\n",
    "if __name__ == \"__main__\":\n",
    "    # 获取用户输入的密钥\n",
    "    encryption_key = input(\"请输入密钥: \")\n",
    "    \n",
    "    # 检查密钥是否只包含字母\n",
    "    if not encryption_key.isalpha():\n",
    "        print(\"错误：密钥只能包含字母。\")\n",
    "    else:\n",
    "        # 获取用户输入的明文\n",
    "        plaintext_input = input(\"请输入明文: \")\n",
    "        \n",
    "        # 加密并输出结果\n",
    "        ciphertext = vigenere_encrypt(plaintext_input, encryption_key)\n",
    "        print(f\"密文是: {ciphertext}\")"
   ]
  }
 ],
 "metadata": {
  "kernelspec": {
   "display_name": "base",
   "language": "python",
   "name": "python3"
  },
  "language_info": {
   "codemirror_mode": {
    "name": "ipython",
    "version": 3
   },
   "file_extension": ".py",
   "mimetype": "text/x-python",
   "name": "python",
   "nbconvert_exporter": "python",
   "pygments_lexer": "ipython3",
   "version": "3.12.3"
  }
 },
 "nbformat": 4,
 "nbformat_minor": 5
}
