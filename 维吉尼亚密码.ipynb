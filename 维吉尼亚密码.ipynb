{
 "cells": [
  {
   "cell_type": "markdown",
   "metadata": {},
   "source": [
    "已连接到 Python 3.12.4"
   ]
  },
  {
   "cell_type": "code",
   "execution_count": 2,
   "id": "29cb2b77",
   "metadata": {},
   "outputs": [
    {
     "name": "stdout",
     "output_type": "stream",
     "text": [
      "\n",
      "加密完成！\n",
      "原始明文: My brother is fighting a war I cannot see. I wish I could be his shield, his harbor. I don't want to be just his sister anymore--I love him.\n",
      "加密密文: Uq pkcilmj wl txkplwgu p aij W vocrwl gxs. X aqkv B qdytv px vxw azwxzs, lqk vtfqsz. A rhb'i aifh mc qi rmgm vxw aagmsg evqahft--M tgjx vxq.\n"
     ]
    }
   ],
   "source": [
    "def vigenere_encrypt_case_sensitive(plaintext: str, key: str) -> str:\n",
    "    \"\"\"\n",
    "    使用维吉尼亚密码加密明文，并保留原始的大小写。\n",
    "\n",
    "    该函数会遍历明文中的每个字符。\n",
    "    - 如果字符是字母，它会根据密钥进行加密，并保持其原始的大小写。\n",
    "    - 如果字符不是字母（如空格、数字、标点），它将保持不变。\n",
    "    - 密钥本身不区分大小写。\n",
    "\n",
    "    Args:\n",
    "        plaintext (str): 需要加密的明文。\n",
    "        key (str): 加密密钥，应只包含字母。\n",
    "\n",
    "    Returns:\n",
    "        str: 加密后的密文。\n",
    "    \"\"\"\n",
    "    encrypted_text = []\n",
    "    key_index = 0\n",
    "    key_upper = key.upper()\n",
    "\n",
    "    for char in plaintext:\n",
    "        # 只对字母进行加密\n",
    "        if char.isalpha():\n",
    "            # 1. 计算密钥的偏移量 (A=0, B=1, ...)\n",
    "            key_shift = ord(key_upper[key_index]) - ord('A')\n",
    "\n",
    "            # 2. 判断当前明文字母的大小写，并确定基准值\n",
    "            if char.isupper():\n",
    "                base = ord('A')\n",
    "            else:\n",
    "                base = ord('a')\n",
    "            \n",
    "            # 3. 执行加密\n",
    "            # (原始字符位置 - 基准位置 + 密钥偏移) % 26 + 基准位置\n",
    "            encrypted_ord = (ord(char) - base + key_shift) % 26\n",
    "            encrypted_char = chr(encrypted_ord + base)\n",
    "            \n",
    "            encrypted_text.append(encrypted_char)\n",
    "            \n",
    "            # 4. 移动到密钥的下一个字母\n",
    "            key_index = (key_index + 1) % len(key_upper)\n",
    "        else:\n",
    "            # 如果不是字母，则保持原样\n",
    "            encrypted_text.append(char)\n",
    "            \n",
    "    return \"\".join(encrypted_text)\n",
    "\n",
    "# --- 主程序入口 ---\n",
    "if __name__ == \"__main__\":\n",
    "    print(\"--- 维吉尼亚密码加密器  ---\")\n",
    "    \n",
    "    while True:\n",
    "        encryption_key = input(\"请输入密钥 (只能是字母): \")\n",
    "        if encryption_key.isalpha():\n",
    "            break\n",
    "        else:\n",
    "            print(\"错误：密钥无效，请只输入英文字母。\")\n",
    "\n",
    "    plaintext_input = input(\"请输入需要加密的明文: \")\n",
    "    \n",
    "    ciphertext = vigenere_encrypt_case_sensitive(plaintext_input, encryption_key)\n",
    "    \n",
    "    print(\"\\n加密完成！\")\n",
    "    print(f\"原始明文: {plaintext_input}\")\n",
    "    print(f\"加密密文: {ciphertext}\")\n",
    "\n"
   ]
  }
 ],
 "metadata": {
  "kernelspec": {
   "display_name": "base",
   "language": "python",
   "name": "python3"
  },
  "language_info": {
   "codemirror_mode": {
    "name": "ipython",
    "version": 3
   },
   "file_extension": ".py",
   "mimetype": "text/x-python",
   "name": "python",
   "nbconvert_exporter": "python",
   "pygments_lexer": "ipython3",
   "version": "3.12.3"
  }
 },
 "nbformat": 4,
 "nbformat_minor": 5
}
