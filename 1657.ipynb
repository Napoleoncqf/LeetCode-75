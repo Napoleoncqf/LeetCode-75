{
 "cells": [
  {
   "cell_type": "code",
   "execution_count": 1,
   "id": "7b270062",
   "metadata": {},
   "outputs": [
    {
     "name": "stdout",
     "output_type": "stream",
     "text": [
      "['a', 'b', 'c', 'd', 'e', 'f', 'g']\n"
     ]
    }
   ],
   "source": [
    "my_string = \"abcdefg\"\n",
    "\n",
    "# 使用 list() 函数进行转换\n",
    "char_list = list(my_string)\n",
    "\n",
    "# 打印结果\n",
    "print(char_list)"
   ]
  },
  {
   "cell_type": "code",
   "execution_count": 5,
   "id": "1d6ba363",
   "metadata": {},
   "outputs": [],
   "source": [
    "#我的做法\n",
    "class Solution:\n",
    "    def closeStrings(self, word1: str, word2: str) -> bool:\n",
    "        # 接近的定义：操作1，交换两个现有字符；2，a->b后相同。操作1和2多次后一样就是接近\n",
    "        # 操作1的意思字符顺序随意；操作2的意思是频率一样就可以\n",
    "        list1 = list(word1)\n",
    "        list2 = list(word2)\n",
    "        counter1 = Counter(list1)\n",
    "        counter2 = Counter(list2)\n",
    "        occur1 = counter1.values()\n",
    "        occur2 = counter2.values()\n",
    "        if len(occur1) != len(occur2) or set(list1) != set(list2):\n",
    "            return False\n",
    "        return sorted(occur1) == sorted(occur2)"
   ]
  },
  {
   "cell_type": "code",
   "execution_count": null,
   "id": "938d0c20",
   "metadata": {},
   "outputs": [
    {
     "ename": "NameError",
     "evalue": "name 'closeStrings' is not defined",
     "output_type": "error",
     "traceback": [
      "\u001b[31m---------------------------------------------------------------------------\u001b[39m",
      "\u001b[31mNameError\u001b[39m                                 Traceback (most recent call last)",
      "\u001b[36mCell\u001b[39m\u001b[36m \u001b[39m\u001b[32mIn[2]\u001b[39m\u001b[32m, line 3\u001b[39m\n\u001b[32m      1\u001b[39m word1=\u001b[33m\"\u001b[39m\u001b[33mabc\u001b[39m\u001b[33m\"\u001b[39m\n\u001b[32m      2\u001b[39m word2=\u001b[33m\"\u001b[39m\u001b[33mcba\u001b[39m\u001b[33m\"\u001b[39m\n\u001b[32m----> \u001b[39m\u001b[32m3\u001b[39m \u001b[38;5;28mprint\u001b[39m(\u001b[43mcloseStrings\u001b[49m(word1,word2))\n",
      "\u001b[31mNameError\u001b[39m: name 'closeStrings' is not defined"
     ]
    }
   ],
   "source": []
  }
 ],
 "metadata": {
  "kernelspec": {
   "display_name": "base",
   "language": "python",
   "name": "python3"
  },
  "language_info": {
   "codemirror_mode": {
    "name": "ipython",
    "version": 3
   },
   "file_extension": ".py",
   "mimetype": "text/x-python",
   "name": "python",
   "nbconvert_exporter": "python",
   "pygments_lexer": "ipython3",
   "version": "3.12.3"
  }
 },
 "nbformat": 4,
 "nbformat_minor": 5
}
